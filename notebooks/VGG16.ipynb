{
 "cells": [
  {
   "cell_type": "markdown",
   "metadata": {
    "collapsed": true,
    "pycharm": {
     "name": "#%% md\n"
    }
   },
   "source": [
    "### 使用pytorch获得Voc2012数据集\n",
    "\n",
    "pytorch TORCHVISION.DATASETS.VOC自带有多种数据集的下载"
   ]
  },
  {
   "cell_type": "code",
   "execution_count": null,
   "metadata": {
    "pycharm": {
     "name": "#%%\n"
    }
   },
   "outputs": [],
   "source": [
    "import os\n",
    "import torch \n",
    "import torch.nn as nn\n",
    "import torch.optim as optim\n",
    "from torchvision import datasets, transforms # pytorch计算机视觉库，含多种数据集\n",
    "import torchvision\n",
    "from torch.autograd import Variable\n",
    "from torch.utils.data import DataLoader\n",
    "import cv2 # opencv\n",
    "\n",
    "data_path = os.path.dirname(os.getcwd())+\"/data\"\n",
    "# 训练集\n",
    "train_dataset = datasets.MNIST(root=data_path,train=True,transform=transforms.ToTensor(),download=False)\n",
    "# 测试集\n",
    "test_dataset = datasets.MNIST(root=data_path,train=False,transform=transforms.ToTensor(),download=False)\n",
    "\n"
   ]
  },
  {
   "cell_type": "markdown",
   "metadata": {
    "pycharm": {
     "name": "#%% md\n"
    }
   },
   "source": [
    "# VGG16 \n",
    "\n",
    "<img src=\"data:image/webp;base64,UklGRrIoAABXRUJQVlA4IKYoAABwmwCdASrWARQBPpFCnEslo6MhpfQ6GLASCWdu/Fd5GujKGkVvmqNJ0bD4ZG8u+Aj0k/5DdOeYDzevRJ/Xumd9XT0APLm9mD+2ZJp5o/03o38BPt35d+fPjb9ofuX7retxkz9D/ov2T/vnsd/MvvZ/E/vXtQ/f/+H4R/IL/P9QX2z/vd6L2L92vUI9vPvn/H/ufjlf1/+J9Sv0n/J/9D/AfAB/Gf7F/0fUj/weGH9w/3n/d9wP+d/27/hf5P8oPpo/nv+1/hv9R6a/0j/Nf+P/M/AR/Pf7H+x/tU//f27/tn///c2/XH///vyTgC3vKJQCxiXkKSrdiq57dIwPBwvqrUBnQAx05FP+D0YX9wB4v3Be/2yeESvrhamKORLPczXKH9CApi5eGGdQmlZMda/W2bUr4P/UMomWRZrNtUJbzxQUly+bnXVVG4olnuZrlD+hAUxmqaE0hguaer29KXyvYw2MoDGTE3fmaA7ma5Q/oQFMZrG5R0ONs1yyOpGXtl62HObNJmvJO2246ySSCmM1jcpnjuUzx3KNFg7Hhw21HNKOybUi6XeY5/4JcHKCVp/SYsi8euqFrLrlmugTqqt+MviLdOB8gaTPHcpnjuUzx3KM94DoV7ON2YI4sqrfu62Rep+Mfm7TOsFfmYg5QjjPOhYIp6ZGkBTGaxuUzx3KZKteJ9I8ye0Bw6W2He3pv1EjLUucWXvam3yVft/P2M3TOUuZcb4CREkfsczW5JBin6CTsfs1M8dymeO5TPHcbdy7+Za8eew/rSbqwG0nAagmJPQFcWpMWriULgXknZvuOFDbcNgNG1UBvgpljesZOqEgHWHSjKZXdp/5NogaPkpSc+OnaS4jLLOq2oMCf7Rll2spnzUjeA4O9l/QgKXBKyh1Ud+cigiqxSc/sc5KpAZgQtO1u4ywYLnjStBw7bpbvfjz6KnZVB0Gj9HzAqzq5+M/FEBVr82NwVvuZF2xgb3hxtWflF5SYvVffE+ceeS9OI3SjLRPewE49GjZzDPFBPeMFaw2bClcbqU8cG0jtGvj2Aj/IWeWP35OfjVPvZyyaiiErAxxO3Oa42GRl6QBd5qoDwi+QDLQlGuR0ADmqJKXkfF23Rk6puO8gWZ9LRawN6vFVXcUedB+yp04/bU/h4lW+Kp1jqiHMVOQ8d+fS7BHSJshhunDRjwxGhONvF+gtUW0Az6yy+Fajipl0OR5/bPf0voCmM1jcpnjuUytGn5E+6RtdGVk2af04LeBIeB5GX8NN4Cy6gbPZEs2nOZSg3LXPR1n8a2KBFDkQV4Shh4GsblGiT1Cpt9jYrTEi8tj586P2K2dRZpLlZ1dKa2R3ZKYNxEs9x21/DWl5cCEZgVZyIOS86cKs3qYogh0YelqTlKay82TCQFMWifljvw752z+z0IAZpqap5JnMxPXsxby8of0Hju4eusVR0JtLraLFzKZokG2Kb9Q3RVQR+syCUR8xc2RkNQe4XvuuOOXw0gVaZyQnFEjCuab7WYTA4TTTVtUOypqpolnrSE02EufN8knlaj2pUL0wfuXNvis+nN6ixV6EBTF00Cxiu5KylodOQUOVY3xnWPz0DuZrlChfCpkUVJTPHcpnjuPVPOasi7R3eU72DCjeUP6EBTGaxuUzx3KZ47lM8dymeO5TPHcpnjuUyIAAP7/RpuT/lT6E1IXPqkG3qnpkIBbFVYofz2LoukLOWnQThrjHKcpqeKe8NEIBQvDxueTVxopM56WvmLNkX57+CxFzZhlikv7tjIs/E6UWa6AlL5kVp+M42ac8nKRBFM4djiFvUsn1HkUhCBVpec1eA5lPtzc8a8DSlPaffeHpLfvSUxNXbo7nASZ0bqjaNug5O8ppF3lbmUnE1lZOdCT7SeBrZbdZS/opev/mEFrHKjUClZz1B5beY/XPs8S2YW7UqDgNivc1YoJnKYXYt4pwccRQ3rvQ7BRVGCmxCsBbx5laqe+Lq28KE0KdK/d4Jpm2G8UvwpqJ2GPhV60rBDRf4FhFCwtTWM9hxGEI3iAopMeFBxbjiC/FkCpGQmQEd4XTmbwShKjdKRGz5jjh9W7JXQKIhfS4EmGcTa2osmOXf0B+kqEF4GhqsucQ1VqFRqIQj3Fx2CzfVsDDL9bSqreGaGSkD/2h0BvrMkox77eH4oR6nYXAUi+Ah2+cJpJ/vIDEgDjGdGBD7U/UqrTBnA6M3AKwTezSju0ZgCnjghuSp1nX7Dr55uE6qeYAWwxOkfE/HAw2At4srcmwRX92xj3HaznkDjjlaAzOkFx9A7vqJ3rv17MIxXg5V4NjpJ1Y99seOBhsx6gcykVyJ1S0LbDt9YqNr4NPfJa9ZgN1hwGj0C9JfxSDW2mtzQs0JMs1aV0qp4Xl1MwTdxpuvdeDXm7dCRpwGULFeDPyvmYokZhWHELDvPuXMrP2DlJlLjMWWMkf95c2Ar1UrJM6Wl5knGczE8fpvxwMNm2q83N6xIpmmgME/D+gak91h6XCw3GW1sxB2cIPUhIw9GkZ+ddd6FkjpSvcfAy9pLxK4XAzq8fs/8fjXj9S0+H8gvUEWtxs2s6mT7xPDD9Uuh8rG+B37MF+Bl/h3qcgdLpL954gSr1rzNn/wyrG7yd6JF4c9xqEN5lbxSXgaSEMdKo9SUJWL8rDGvJq9en9seOBhpVIF7CR7r/jnjJxdsg3/HrsJyA5DIW4s7sr41F3iLdDp3MF0qbMsjBUkKc0PZ99AARw7w32SofkADYr9qdXelOf5QFODlOfIcCtIHSbJFoZnsydfgzPztO9juszTJbBGhY3vBT5Umb2j8Yc3pGD+fBfv6ErS7r/d5rrl3R35r62zlxaU/rrDEQmUl+f4GLmBq8KgT+IrB6x2iLE/pfbGcC8Dv6MBky13igSMcf6WmricYYNU0sIwSOD/JTRnLJiS5gAxvSabUupWb/3M9HvrY5+lFH2eImSACD/y5B3fuvZoqUiWrSlmf21xydO2gN91ncBwByxx8JPmmpCy+MEhb9yzSv+qhSkeb5LmR4FR27AKb38UN8brbBLXBJkE5QrCyL1bzZbKcuYqJDpolGXqD4bn35acWE6ly1ZPUXJFDlEFSL/hCKhxY0eDEIqsEEct+8suLS7TcCQrddG+7XK67T0lhQblLqtfJ80OT8gRf6XVAfTUTgLWD3/6FZtTTNbW8z4apUa0n9YszlqBEXu/kkg+771Tv3UwG4bu2UZL1/J9XPoVDyeFnLmDJQJvuxRaB4AhK2/FNZW59uXm8AEAu0WW5v4FPLIbtW+nnXhUpToM+ScodyV4iLCAkMUoVwCWSxAAHYHaBS3xWqw2IxKAUw5nWq8LjuLFA7JgNsAfsh7Mo+f4fn/6RYs+oMsAikx4y/0i2ne/nRaAVjK6l7dbIz+5y3E8FVp0PtkuL7Y6nCZf9RF4wmdDHWIEQHnMDBRt9erL96KcTeQrY01T0ISQ0b3eppKgBq3m1J8spbvjCAW64+QK/ioybOtPGESIaW5bgpuIIHEcJ9cjuISWxZcoYYD2b/FrIzufwgM3R1dq96dPcGOUpietM7GiEtOd4xvXMz1qNsBh2EgqQH1yEL2km+YRe3P7qj4iO+ltUZveJgQ4g6eU9c+sTn3zqGbkOcBhQDElTMgF1gXC/ZA7K4IQJ+v4r4CYoUn8F1+8Tq0k4fNWUHvt17EPaQg2vicTGJ+OF55nfocy3ISXkcvEFd0lkAij3iUnX6nnUmwXft0sqnePwMWGttqTRyH1g3h/J2TNtiJGhTcKM6a1iWe5iJSyyHhJHMa0B6zrceK70EPrNHjO5CZGdqr7Qo0ycPmrksSy8a4AUrFm1GUbi7oXDvyHnJ9cC55YBE7XW9wPtZdd0VpUs2CrWv7BkT5gKhFMbIfASwXD8tjba954LTSX5hhEp0+9BolvjXAxBlNSaF7GtqfZj4OkAfchMHMtxXC97UniV8Da4c699xkZj3pPZp2mkfssqhzAysvZ5EjQ+Y9Dy0Q2+6wkrwTvAkyOCMsPMqCAzJBOPgoeECR8NDsSiXzfRIByF33AA47+zHRV2PfgmWJz3R0u0emHTOcbr0l5yF6fO7jMhRtZhZhQf0kHKpIJBvs9rtYko/yWln6M3fQjh4MN2gvZHgCpO6GI5qMwuHss47kNR2eDTokvIRVzKRjJoE0lop5HSHWqZv6PbeofnF704NJSek3Qp7z+0MKp1AbGcY0wh/UNyXtquKd5VlePbxir++pG1Z9OhnXd7/D5Ya1+wHA2hHG5VSweMiwSuRSeLfVsQS/0UukGLKDYWgpnzAlDbvtNAglUle6wLYijk9YOwhVkCI2y1xeeCVbCVKQ2crn4WhAc3CXeHCYNbh40UXhtyXc0qJ1wfg1MeQEIMIldjtvKsg2NLfvw+w4Ap2dbDp6t5uawEl/hMtttsfpacxUg6YRja3PNunc5AuS7lWyKi9lYzExQ8jQdl0Bx9S9P7r1PZ9Ozeds6FCbMlryTF59bu3QqwbsJQMi8XucFCdvk0EsBPCPXnDldgkaXpOAMHleqAWJvElzQWW9YHCS9dO7M1GRIrom3NWmyjRZmSQogUTeffi4v+VdiNsHtk1Phm8/0/Rzixb27iBhkPS5z/Zpxe4rZPzcuPpOiHKwyrfpXz5S0eDky/Z7AS/FN/Rt03cPEpTYP5isff3bjO0cS2SCjHw1EbbaI31WLMbnZMsINnQqmqlHSikcFW9pYlOzvzJWgSc7hCTalmbAMy5XFa3wKngpI1hFaNZoRcJ3Yk1A76K90rijs/DeWyAcW6rjFXNvc8mF5vaCt2CpvzuCLo2Uc/zUUmllwaiFKM/EaWmj8p4igdXm4JMdvF0IT8BBqNvLzwLjZRFUDhLF30EmMUA2X4AsXMTAv8g2sAOg+Wk89IS1JVYiPO/J8hTh8k0MKauXXVuiRn94ls7yMWgmPLj3UlARATviSFPQno4hZHTp0AogOEJzqiQFsw2mm+/uyuGhxV602D5/0hwlAxynvzvDNtP4n+9HBA0tpGhVg56ABhwOebgVKdkUEiZPrUvwUbGWSVMANA5JB3pxnEMdJIKVj81iJ6tL7p0YtgzS4ujmyHT0d/A9ZRN8jaDLke+FIVAiHBzFLHNnzZflkHRC/p1lCMU/XgzNZlU5euy5dc+6Fc24DPve9aEv3DxusRfjeJyTFuXCqcFQkWaQg5zAxbsR9t7O0pBbXIQEfzw2svVgqIer4hKu9AuoRzSB475aJ24FcDWTKuQeTGlPV+kiqcCD5KvsS6wXGAfqf4iPkzeg+0Hg016zeNO/ZiE2wLbmGxSj6TiH93SK3XaZSaJFt0INP7cA0Wg2R6iLg5fTLvAVpl0pcWbfuWTcnE33AJF1Q8VeIZfT2EE6oVZYkzJz0si7KCVhby/Zr7noLdoWOakS7wcaEMF8tE7cCuBrJlXIb7P2XEKw36TK+FwoqcCyN052HjkbxwnL2fZ7pAb+quxL2yEWJ+/z3JRGDNvc5Ff3AAu0agI1u8m/SQwBYQsBepGK4RZ+Hs88EoUBq7U4JFxppOXjaGCjAx0Hju+BUGTRurGVWiZKGSiKUQHfv/aRHPfkku1D1psYC8rlFBNBp1bFFos2Yx2ji+QJoVL2i9sV3/W1hUQuVoEnr5CXkHqh2rXyTw7zBBpDYwSsRyVHKMKIxI45Drb+tUfOkfBAVoqzczdF+Jzzrvu1AwjaZhhMhPiupGi6dwJa9eDpS/xm6xuJpOLRmauyKs+2JgsUm92Nc58opow4Ht7tFeEHuKatoqNNIoOa2xTPIlAeovi51dgt1EmyfifI1nLGgNgTXQoC9Qp0etZM4jGNt5K7PozT2zNHbni498KTCCIohN+qIszgNhRyYOQgcj6FH/7ud99Uhr5dlFSOjZ8QGv/8wkvcyYtTmVuZUfOeeX/eEGNeHwU8VkvcB4ss2wQWS48GHJsdaV3mnxcpGand2UWQGjoWqb4ddmxsCpvyRBIpW+Nyv6BWqs5VoLoptyepVGq1rnG3se4xHfYbtInswzZWbwDPv8zFx6ENLdTT91hWyXWEYJGQw5LnStYIwLBmKgJ2gG0egn3ipd7VZ4Mhl7bagdmDcjHgCv1LT64R72w9Bm+YLHo91u4aMt0uzDpyr/DAcd8IeFBa/dbxHTDKTq2PT7x8u78K+e7D39/BGuw8pA5L8CepRGDsgpK1lBV0vhubom/6sqFZXhb0vqvmBm9EsHUIyeQwjQ2Urf3d/PCWfs3H+9JqDlK9jS49NDh4BlEOqD4DDY3CVy+INE1UhWVdrjaxKjtwRZH3scgDU8jnNL9Akz3ywCVFQwnfQFcM6Hj2qTE3wvsyseGum4RNd5+31lmUzArhP1RhyQyXhEgOwmONKN26/RWU69WgB34kZ/DguQfOcMvzU2o15WrcZOC4RdhQAujB1Xmtqg09Pj1rBKy6vqQ6GLbLpS0z97r1LQ/NckRSkv/lvIG88qiHUbWw5/HIBsQZ50GCzvXxeD2bM8WDZpZubgA0L2PNpaBgF47GD1LNPNWMUU4lf06qzKT+YgC28JgRV5IwrTUVPUID937T337KeqDpHCQtVbhHxAkdwOVYY6UNW3n0DbYcfnwcqVF3Iw00WmCDhfDRJ11/287av3rNGGdyI+sFmuU0Yd+rzRfKoONMg3Euz9gO/gz3Z+ce+h+2gKrMHBA3Ys2Sodad7j2bBlluih60fItXay1Ngh0Ofe19tp7uih9ioldIxVFKI6gCQaxoe6OM3qrbEx67ZISDlDgjvUl18bCvKlIHMSdVkzLGnh302isFd6xNbuiqQtB/v1T9NrCPv+az9cBHd+a4Tz8SK3uQWKl9QZ2vYKXVYSqiPjW7GU0bOE1qKlqOI4R2E6L4zqKxvdU4gf3Dd4ifimp/3kjUhrNm9jMF94aqVM8mHonVHfUnH6H4uCPoo8kSGTh66wH+rGNCflTKukUQDfXpHjLuBbQoNAU/nDP8jYW1DI1j0maTJC9oWUdteCHdWpVbYy/7Zw/yDwR1W2BQ4QpUJ5Sn3E80WmaCuKM/W6BrnCSQFgCJfv2QOyRLa3xVbqnvMsGGdSfcBGlyJLup8mACT+YUptZNQ8r6aDk0V28dqk1qnKiPU5ulSwQRs4qZFZCELZZs438imZtTV4khmXJnufXIDZS5LjfGDVl1QDXZ+1dwkOa52FxoOzbyh0zDJsW3CATXh43aXHOqXngQeooqMMuf9VKYEojN7ZUDoxkZid1KUwtaA3pKCFha2PXV+zUiojJ4WS6Khx9t9saGvBjaIATKQXNVW/ibmXalkvFerD9q+yDHKMDWtG3PmWAc4C6kaV+3cPfCmvUtEVGaYdZwfyDfclV/of6OzPAC8H3m3lqcvTInBeoL+id4dc+BATuM1Av5l4FwMsVCn9qePnH6UUzHfD7zTN6mXeZNBo7wL0/i7Me0PjgoFYb6AGgRhUwN5s/rQu6breJKFJv3TdMrtv7pf0Mjdu5HPZwzuVufxoGi+iPw7ukK+RKI7j5JUXx94/CmqmHgKNUgqU8m1cuQ/4nbpwY4DDzXxRvZvKsiyNHtswIiK8UccDx19RhsnPoFhd1zzc9/rbTIMSAnJrH5guuvz65Q6JZLkKoTmE+Otmpy/xvA7SuTU05zz5coMYBdVZASrMuFnyyHf69UFp3qgmmLsE+uBtKFTuLwNI9althHLJ717y9sMs6MfOWoL5mn4uNbnYAsnK3AHgVo9fzlY1eFGod44Y4Umcl1nRtCY3+UEVI1JzLidEjp4BfF7d726VwPaEc1VXb+h/74M4jjEIsp9H/5isqGTA/uG3H+lWhT1ylPyWeMtzi0V8RWIlYk7lRy0zjvXh6xn7YhyCV2gIM2mZCi6CZqQDzGbz3tL9Cm30IlDPmvj1XZJhp2qq0RSjYzio9ylxb0db4BOuSbDGbo4Xdmy0PjpqqWkAwCdv+1vbazgOivce/HTfGBiQiYxTABak6nZveQ7ekuDpDWfzqDR2CloaiO4n7rnCAYCZzAGa0F/NmhRlq1t1spC0x+1ewBY/d8C15PB0Awgv0kWJZDTzbBDI5+r6W5DMjM73qx+U8CsanPEZuO/raoj0n72rRC1K2HkL4zXeYYbyDJzN8RK4XDm0JSN+iqmK4nWNwZb/Sx/cLvp3EoOQl3rL7v/TPW0yi41zd4QX80KGIJ4vKpbqobhvKJicWd6H48mfcd5Z8LEJQknmHZxHrWkP3WuwcnOHJ7/R2Lof8EUGGgK90Fk81dr8Lp6T7iHB0MbmYp3v/MM/Xb4xfW+/F1ttbfsC74nlkULqzt3/SMm8Hwh36Am03o9m5doFTOVkzSFiAsdxUn8UFOTyNGfPx2SYSW/698Uc1C/cbx5sFz8X4nZ5HWRWtRKXCyOSHmCdDVfNCD48fKURdREY8t7HNOTNIznZfAtkIXN2n2Vv2UkuuRIEQKkWe6/z7jCSaldLs+PHVb8np76f75iVtnt1mXqlpsR6t9iNytrjf//qE1WJXDZszQ0L5iMr4PocnIXdsJ0LFVb3lMvwRBrvESIJ36TuzKK+p/z/tMW+f8R6CUDpZbIBrBlWzOilZQW8l7YP40NQzPTGLPeb74xiqtNSQJpbNeOEQv2DMJoOtqawcTwsig52+nnUmwXMq7j4vMs1NQSxfMgCufH+dD1/20H3oRGinzF9JJkvBWcoWzJGW1XFQDg2rKtKkJD1oW1zJjGoYKUOPZwtL3KFxtnIwfPH0rr/gxDFcnigmG/oFCmnYqDMoABj1lEugJ70uzBCdMCFIcuDOse7B0LRICdoF/15a7O2K6dHzx6Oz8embDM6QwnJrTeLs93j3f2VycsRsCCXL6lEsIDWzI02MtSaysUjnUGwoG7VvF9VY0H+2ydgSlrTaNeGUx7VnWIXFxZ3ofLGGcYEtc0aRVhLn46jkTk09fqLKvgkZ+tLdS4Z8rwfjgLyRcnz/uSJRabpzpOpBHpGFlg81l+kUiEFxRbfEA+gMArLtybv/Gj3uUEhoXtJ1Wy0JXUNTUPxiGpkd1yZHdH3I1tXDKXxJVRjI/ZgohVCBml9+2BPRhMG8LwJNwp6Cnv8MwCzVfT3PPhvgjv9UtonemNjGYuXPbf7rmtCgLQuVa0zl0R+SuuDVdOQMPdkZjM2gieNNKlTUuKXXrwx4r27tEmNbWkqCNceoH2UJpHy+itFISLYReCsw3iGWGUA2qSSX2m6Ji27DsJd7c32LopeVufy7bmS5rmaNE+iaK4sPYcpI4imm86rIrcXBKfgiI9jBbSpO7K8qHyH/Q/phjllDmgUIiL3oD/aaNsT4GsUHvZ3D0tsOjtfyybAX7Rx06xWQK/lTsz/TaKxOYmqHFJwXv0nsdOMoTxXa5YCboKEEc7cFeJ38PmoTrvDAbuzK5qCwRJNg8nfY8tK3vcP1m9cTtibB44m5Qf5sagEWPvHV6Z+5daPh2ug29esUeLsAOS+k5yNTv+AUe+t3ApMK8qi/WLLNxMhCCg2wJesr1ddJC57ciLfG+BMFFbqbSo0nE5US/92DrZ9oBSh3nydApe02LeThuhT5mih5WL0AnlSWtUd+Tf/bCSvJSNzudkcgoWTJ3pdLElgkTehyCpguiPjJ+DgFs+Q/eOPYKlDJeruD1XCzrVZG8qDSGjKfWQeacacv0TMR1ys971WGdJkRIWxqKtYf3VHONPlFMGJSQCgNjFBPX+cDMDzJEUaXWdbenJfEIRkivFoSn8QSi4rrHDLOYhYMOA1EaBy2CQsXCtT6mDEZk3X7xne///ySAs7CgRG0gSNs03DAuN6f1tgVrFg+RLJNY6h8DkPIxVTBU3EyFhLOu85bcx/NmzKAh1p8qnwZdvx4FK/BgDAiwm0Ap9Fl5BIswhC8xUsVbWyOMmHTr0YJ+dWI/Z/1B+68X9JH9UJoao5X0UYv14JovjnRVw2ziL6CR+ZA5Y1rO4j+bKn7IcF0TpowrRSiSU5vnfLctG/HhUtdRMG4zhnZ3fb0lTrVR7LOaAnUrksZPPdS9cWiyXbev3FTFjkJ6X5oXoHnaBHL8QfebtDTNYpOA7kxt/f6NYv/Djr/uw3v8ZJqCwEmZnnrP80FsHgaa0pgUC11+0O8D05YFxemD2+mgchDXlr0MQ/aJaaXvzXo2O2ZovqP/nMlwWJODzw8Uf/JHu+7JDStvm4SHRKJusjwPicLjlqjgn7X9exTtwHED2kSJAWm7Z0rsYyenvL04IGDq9E6jl1hiPbeW7YCojRN4p+KZNvuOOxALLt1XrD9QeSJsyDUPyf4sB7q1Pgw22b/CVSZ6WUYvgDiBekN1RmP7F3nSne8FQKiG01LTqw9vdi2QIX+AQ0T7SlXaAy+oaO6eX6GPaDahUcw0XnPFSqANbQ8O79pYgDvjTCGgFWQVKfcPy13S31kViBTIfCfoYMESlNZWMmztoT7sKt7JcPIBmmyVDao6HSDl0tueC658hZCGn6wCHXN4gJFv0fNpQjNmtZAS24Y+CC0a5SMnGcT2ICfe6+NpWA9g5fggkoMgKerk9A6Hoa3aK7Ldp3uVZh7NN5d47oxZweC0JTLkYGpgXSCFyImsEhZodpda0nvcffLLJxwzaCdld4+YQ4mwZEh0o6l7wI8vp9jV9Pgl2ERMCtsrifjklKKjJEoPtMRs5lHxpIZd/FHplaH+PXPNwN3JuLahxpAM0Hx3zMMdc4TPBbobUgkTux/R4+NUqO9G+//Gnl4Z9j0BNzCHgWnajAS3nbml14fewyb0kvrVn2CnZEHFmA+Rv65eJdF4RTZVv5ZSAmfrcKy2/nFAYAfHMPgprErqVEDph31tHfdfeycqpw5TSesmEPsx1GlgACXGNP3un71miFHvlMpw9cYPpLwvqZG+KNz1xoAYZLY4/1EuBIgSW2rM7+Efg4a3lpzxD4nrI9gO5CcBF5JI3vHMowuec1mNo2c5gg2JhKO9HOR9ExCo2ElexwKOWW6tXJr29QJ/7/i6yFsesAaku8ujoNdVClmPBVjkVfg+mKWEN0UqhOWUwk/HSiR8apZwLM/Bp7a8dBM9LWmdT46wZmxi/e6lGeCdLatq1034JMlP+upZBsZPHAtT+ybLk9s8dIRVVK9UCwx7cyMv5fj5oiGAQCMi/ELMn5K4Irw/dj/gmAdXwt5ERtyeYXi6IP7U/smr48DWlo85mX8SqwVkaEv5e44U7ij/6loP3HZH/LlOIJKB3GBrndWEMJBe2nnWm3ps0xf3ZO6gpVQ6QcIZUEaZU0w63BIwO2sTfxZM3z7Asn6vDcs1Hw73Se8Jg+15mVj8nw4G+UmeVoJFKspQDgLILVWfBgUAn8ozi6oNOVSg7JqGOgQcudmRtuv/D4jKJx4aLcz7cWiPpChLO2jg6QNiycXAhmlJ/2Jk1Vn+oe5Cbu8se0G0h9yScTFmzjLMLcb6luoDwaUm2Wvl/iIsIEpQhxunGSxvuprhwSvEiVRGgM/fUVA3ndhi3jZOPz83lK6c8443O0k6Won6vRPa2TIvbNWr7w90rSnj1yLrgRfv5wmFnF1f4wbkqDowRhYGYtganmehf7meFG+ZexWmdkBH0jJ5G9z4AF0eRuobHILl68unD0M/T3qmsiMiMnAIz2pYWSwSvIdajiKHR1hghXckoE695ZP+azyxn2ccT3huAsFnCrMqQUDnYm737qyLFcYnutQFL1zl8A1ceMnKSWzPyrVmB3rcjE1Mauow3yJANA3coxYsa/IuBCMkUmWLpu1OB9D3nCyxK/wpeseUr3vIERO2qgoOBGkskZV8iCcKU3W8CrA0FpgWlgVEruKKOfqcOV8CsVQvmD56mtGR5WRYmEQAHhLyWGiCuBzqIZVS2y8ZFBsFc3txz7z/pDbZmyQsLVDZYgblReeS10kKmvf7CTG/nnPXV8jXwS9gt7qbOoS/fPaAomVgHtFdtAOd36FCpUdEb0M+WQt8yYwprdlEUdY2f84oC50qtwqVvIxSu4i4+UOfEqsPpcCtX4SBmVbjACQJfkWibrEvFqov9kmzaLhrztRpAWzpU/dAkjV0ZDa2AcC18E+jPYJrgJWUoWX56VmuiTKBOePo6BWTzNdpI1G58dnIbUI2lHo969qJR+OgfUr6Hj1jVEzUbDNADsFODaV3UXx0xaGfngyaM7qESnYPc2kVx8e9lAcGyoBhV/gD/pUR2b9XjW290f4nbToPCuL/WeK3ZTUAeJzbW4zIN1pcsQanPGkxBb/9bUelGtXeqCwgIgk9VAVEHCS/c3SDzYTtPSruXMUIgJ4FaUsJKpKy+pICXYVM4oAtAQ/jb45k0lVv50dzwdpBSEHrYe20FkIHcB5fItVX8Cm2ZUcGmhMitynZRuiE5rkC1WR+48ajWmRF+IKOf4S+ixnB5yhyT9mkh04HDD5Za1de4h2XN5XCkfkHLlW8qeQIRBPA0jbzaNpxjm8b+p6Rg8O5ZmVm0C+ldiLg02bbbfYZ8m3Sqa7ir3sXdPU370tzt6rtAkVQlFIuI7XNi30AA8f1ALaSz2hty1sxGfYBnvxkSvnoBm7e8ml+Oo0tqqK2iStGO33FrwwG5tFK4+mT2RWKzP7l5HTtEA86HbfguOaFI2ZF7WlesYMaEc4L95ANqjYYMLy/EHw3ClZg6nCH6fDYmMO6AAZy/8YuFDxEP785zTAC0IzqC93vsmDWOGW5xa97S8g1rMhIMo9VihRra9/AY/yUSsXIcIL7aAqmubYQnTjbjBu6qMpRsZ5R96oietT8VMy5H3wv0/axJQXA7p4RxDBuSz8pwcZJOzEAWn48cNWY61yQHQ4DF2PWnMwB+JyI4zhxJkrbRDm6MTkjZywswq9AYID/EuihZX/gRURc+DrIbFS6/DikP74dKhFHczd8S+w7xCFwpCQl9NaqN4LVJMifPk9jrmnEVbABMKt4y83Fd1BbWJFGXQVydls1BQ/BrvwtSYVZXghySHu6YrhYayZVppNlZtEX2rNmK27nIXOt9+wqeMJSnqpaIUTWEGpLt6iNeyqD/v8THwCeFjbgCPs4IyDLl03KwOQoj2ab4tMJw1aY/Ph+9aJcMSvEg0xkGPEhWG/dZNTwXCW0RjS/H41tHhpIzaoyhV53FMta6VPJQknGISVELxo58OwjN+YdWYTLScXb4ipgyPldpHZzW1teAmupnnlyw2oyCEk93lumD+o7kKaK8PWbVoQZNyf+HsqWb3vPDkHTL8eP0iDTamUkDVuA5y28cFnImruoZuGTDo73vlXxYCzvJTMAbHEOGJmxYaWKT9BH+nbiHN6AyAEabvBKcaxqP00fGumUW0C/nYSy12OilWad2J39DVIaDyz/dbFFklceNLPCJuiRRoRHKDx3Dfsd6L9KAlYdWN0u9m6H+P2zEB5WFmJdOncl5y9Eln1uruxBGrucqJgoR0WLVe9/E/+HUY7ZiW0NZxB+z/5tNdCyUWEYGIfhxd85FcyOKYNJZXlWVPjhvrbwsdy8NmBxuhKD2lwULWwydYHc/YF3P5wZGlSbjGTwVmobxbuMw/jVOgHNG/JSQbiSLxaFNs+DqBtFcsoNvptwI/WqI9IXw/LyX/obxguiUMMbfqqSGDZNNpxaknXuowS15nL91didyNvIwc3ceW1e8eoGKsd2eRFX/gu8isZ2Q70uYuBGhmRIqojWMW8YX7/jQUbOOYmedzhkMR3bM8dgM+IknFn3Adhc466yYGiGKrx9YOWOPZ65KXoQ014Rt9xlKrGN6ilRt5ReyuHBF8QCH1EwB0CJiqJr4burrv86CqyCx2jWGuZLsAlAisn80AFYJqwAEkQ1QMRB/FVosKVX3KD94WuLNtgMOTdgpQEk93fkSYYar012+d4Ksj+xh3TDM2Md1/yJBAMI2eh2VshDGjXHC1ZA1JkQeekIM9TjDr515sR6ACMPr0A18AAAAAAAA==\" alt=\"\"/>\n",
    "\n",
    "- INPUT: [224x224x3]        memory:  224*224*3=150K   weights: 0\n",
    "- CONV3-64: [224x224x64]  memory:  224*224*64=3.2M   weights: (3*3*3)*64 = 1,728\n",
    "- CONV3-64: [224x224x64]  memory:  224*224*64=3.2M   weights: (3*3*64)*64 = 36,864\n",
    "- POOL2: [112x112x64]  memory:  112*112*64=800K   weights: 0\n",
    "- CONV3-128: [112x112x128]  memory:  112*112*128=1.6M   weights: (3*3*64)*128 = 73,728\n",
    "- CONV3-128: [112x112x128]  memory:  112*112*128=1.6M   weights: (3*3*128)*128 = 147,456\n",
    "- POOL2: [56x56x128]  memory:  56*56*128=400K   weights: 0\n",
    "- CONV3-256: [56x56x256]  memory:  56*56*256=800K   weights: (3*3*128)*256 = 294,912\n",
    "- CONV3-256: [56x56x256]  memory:  56*56*256=800K   weights: (3*3*256)*256 = 589,824\n",
    "- CONV3-256: [56x56x256]  memory:  56*56*256=800K   weights: (3*3*256)*256 = 589,824\n",
    "- POOL2: [28x28x256]  memory:  28*28*256=200K   weights: 0\n",
    "- CONV3-512: [28x28x512]  memory:  28*28*512=400K   weights: (3*3*256)*512 = 1,179,648\n",
    "- CONV3-512: [28x28x512]  memory:  28*28*512=400K   weights: (3*3*512)*512 = 2,359,296\n",
    "- CONV3-512: [28x28x512]  memory:  28*28*512=400K   weights: (3*3*512)*512 = 2,359,296\n",
    "- POOL2: [14x14x512]  memory:  14*14*512=100K   weights: 0\n",
    "- CONV3-512: [14x14x512]  memory:  14*14*512=100K   weights: (3*3*512)*512 = 2,359,296\n",
    "- CONV3-512: [14x14x512]  memory:  14*14*512=100K   weights: (3*3*512)*512 = 2,359,296\n",
    "- CONV3-512: [14x14x512]  memory:  14*14*512=100K   weights: (3*3*512)*512 = 2,359,296\n",
    "- POOL2: [7x7x512]  memory:  7*7*512=25K  weights: 0\n",
    "- FC: [1x1x4096]  memory:  4096  weights: 7*7*512*4096 = 102,760,448\n",
    "- FC: [1x1x4096]  memory:  4096  weights: 4096*4096 = 16,777,216\n",
    "- FC: [1x1x1000]  memory:  1000 weights: 4096*1000 = 4,096,000"
   ]
  },
  {
   "cell_type": "markdown",
   "metadata": {},
   "source": [
    "### Network Architecture\n",
    "### 输入\n",
    "- 224x224x3 三通道图片"
   ]
  },
  {
   "cell_type": "code",
   "execution_count": null,
   "metadata": {
    "pycharm": {
     "name": "#%%\n"
    }
   },
   "outputs": [],
   "source": [
    "class VGG16(nn.Module):\n",
    "    def __init__(self):\n",
    "        super(VGG16,self).__init__()\n",
    "        \n",
    "        self.conv1_1 = nn.Conv2d(3,64,3)\n",
    "        "
   ]
  }
 ],
 "metadata": {
  "kernelspec": {
   "display_name": "Python 3",
   "language": "python",
   "name": "python3"
  },
  "language_info": {
   "codemirror_mode": {
    "name": "ipython",
    "version": 3
   },
   "file_extension": ".py",
   "mimetype": "text/x-python",
   "name": "python",
   "nbconvert_exporter": "python",
   "pygments_lexer": "ipython3",
   "version": "3.7.6"
  },
  "pycharm": {
   "stem_cell": {
    "cell_type": "raw",
    "metadata": {
     "collapsed": false
    },
    "source": []
   }
  }
 },
 "nbformat": 4,
 "nbformat_minor": 1
}
