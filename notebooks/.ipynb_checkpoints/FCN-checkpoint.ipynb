{
 "cells": [
  {
   "cell_type": "markdown",
   "metadata": {},
   "source": [
    "### 使用pytorch获得Voc2012数据集\n",
    "\n",
    "pytorch TORCHVISION.DATASETS.VOC自带有多种数据集的下载\n",
    "\n"
   ]
  },
  {
   "cell_type": "code",
   "execution_count": null,
   "metadata": {
    "pycharm": {
     "name": "#%%\n"
    }
   },
   "outputs": [],
   "source": [
    "import torch \n",
    "import torch.nn as nn\n",
    "import torch.optim as optim\n",
    "from torchvision import datasets, transforms # pytorch计算机视觉库，含多种数据集\n",
    "import torchvision\n",
    "from torch.autograd import Variable\n",
    "from torch.utils.data import DataLoader\n",
    "\n",
    "# 训练集\n",
    "train_dataset = datasets.VOCSegmentation(root=\"E:\\\\pytorch_study\\\\lab\\\\data\\\\\",year='2012',image_set='train',transform=transforms.ToTensor(),download=True)\n",
    "# 测试集\n",
    "test_dataset = datasets.VOCSegmentation(root=\"E:\\\\pytorch_study\\\\lab\\\\data\\\\\",year='2012',image_set='trainval',transform=transforms.ToTensor(),download=True)\n"
   ]
  }
 ],
 "metadata": {
  "kernelspec": {
   "display_name": "Python 3",
   "language": "python",
   "name": "python3"
  },
  "language_info": {
   "codemirror_mode": {
    "name": "ipython",
    "version": 3
   },
   "file_extension": ".py",
   "mimetype": "text/x-python",
   "name": "python",
   "nbconvert_exporter": "python",
   "pygments_lexer": "ipython3",
   "version": "3.7.5"
  },
  "pycharm": {
   "stem_cell": {
    "cell_type": "raw",
    "metadata": {
     "collapsed": false
    },
    "source": []
   }
  }
 },
 "nbformat": 4,
 "nbformat_minor": 1
}
