{
 "cells": [
  {
   "cell_type": "markdown",
   "metadata": {},
   "source": [
    "# 下载MNIST手写数字数据集\n",
    "### datasets.MNIST参数说明\n",
    "| 参数 | 说明   | \n",
    "| ----- | --------- | \n",
    "| root | 代表训练集/测试集路径 |\n",
    "| train  | True代表训练集, False代表测试集 |\n",
    "| transform | 将图片image转换成Tensor |\n",
    "| download | 是否下载，第一次使用需要 |"
   ]
  },
  {
   "cell_type": "code",
   "execution_count": 4,
   "metadata": {
    "collapsed": true,
    "pycharm": {
     "is_executing": false,
     "name": "#%%\n"
    }
   },
   "outputs": [],
   "source": [
    "import torch \n",
    "import torch.nn as nn\n",
    "import torch.optim as optim\n",
    "from torchvision import datasets, transforms # pytorch计算机视觉库，含多种数据集\n",
    "import torchvision\n",
    "from torch.autograd import Variable\n",
    "from torch.utils.data import DataLoader\n",
    "import cv2 # opencv\n",
    "# 训练集\n",
    "train_dataset = datasets.MNIST(root=\"E:\\\\pytorch_study\\\\lab\\\\data\\\\\",train=True,transform=transforms.ToTensor(),download=False)\n",
    "# 测试集\n",
    "test_dataset = datasets.MNIST(root=\"E:\\\\pytorch_study\\\\lab\\\\data\\\\\",train=False,transform=transforms.ToTensor(),download=False)"
   ]
  },
  {
   "cell_type": "markdown",
   "metadata": {},
   "source": [
    "# Network Architecture\n",
    "![jupyter](../material_image/LeNet-5.png)"
   ]
  },
  {
   "cell_type": "code",
   "execution_count": 5,
   "metadata": {
    "pycharm": {
     "is_executing": false,
     "name": "#%%\n"
    }
   },
   "outputs": [
    {
     "name": "stdout",
     "output_type": "stream",
     "text": [
      "whether to support cuda\n",
      "True\n"
     ]
    }
   ],
   "source": [
    "# LeNet-5 paper下载地址:https://www.researchgate.net/publication/2985446_Gradient-Based_Learning_Applied_to_Document_Recognition \n",
    "class LeNet(nn.Module):\n",
    "    def __init__(self):\n",
    "        super(LeNet, self).__init__()\n",
    "        # 卷积层1\n",
    "        # 输入为28x28x1的黑白图像，颜色通道为1，RGB图像为3，所以in_channels=1\n",
    "        # 输出为28x28x6的feature map，所以通道为6，out_channels=6，feature map大小:28*28(32-5+1)\n",
    "        # 卷积核大小5x5，kernel_size=5\n",
    "        # 步长为1，stride=1\n",
    "        # 填充为2，padding=2\n",
    "        self.conv1 = nn.Sequential(nn.Conv2d(in_channels=1,out_channels=6, kernel_size=5, stride=1, padding=2), nn.ReLU(), nn.MaxPool2d(2, 2))\n",
    "        # 卷积层2\n",
    "        # \n",
    "        self.conv2 = nn.Sequential(nn.Conv2d(6, 16, 5), nn.ReLU(), nn.MaxPool2d(2, 2))\n",
    "        # 全连接层1\n",
    "        self.fc1 = nn.Sequential(nn.Linear(16 * 5 * 5, 120), nn.BatchNorm1d(120), nn.ReLU())\n",
    "        # 全连接层2\n",
    "        self.fc2 = nn.Sequential(nn.Linear(120, 84), nn.BatchNorm1d(84), nn.ReLU(), nn.Linear(84, 10))\n",
    "        \n",
    "    def forward(self, x):\n",
    "        x = self.conv1(x)\n",
    "        x = self.conv2(x)\n",
    "        x = x.view(x.size()[0], -1)\n",
    "        x = self.fc1(x)\n",
    "        x = self.fc2(x)\n",
    "        return x\n",
    "    "
   ]
  },
  {
   "cell_type": "markdown",
   "metadata": {},
   "source": [
    "# 训练前准备"
   ]
  },
  {
   "cell_type": "code",
   "execution_count": 9,
   "metadata": {
    "pycharm": {
     "name": "#%%\n",
     "is_executing": false
    }
   },
   "outputs": [
    {
     "name": "stdout",
     "text": [
      "whether to support cuda\n",
      "True\n"
     ],
     "output_type": "stream"
    }
   ],
   "source": [
    "print(\"whether to support cuda\")\n",
    "print(torch.cuda.is_available()) # 输出是否支持cuda\n",
    "device = torch.device('cuda' if torch.cuda.is_available() else 'cpu') # 自动识别使用cuda还是cpu\n",
    "batch_size = 64\n",
    "LR = 0.001\n",
    "# 装载训练集\n",
    "train_loader = torch.utils.data.DataLoader(dataset=train_dataset,\n",
    "                                           batch_size=batch_size,\n",
    "                                           shuffle=True)\n",
    "\n",
    "# 装载测试集\n",
    "test_loader = torch.utils.data.DataLoader(dataset=test_dataset,\n",
    "                                          batch_size=batch_size,\n",
    "                                          shuffle=True)\n",
    "\n",
    "net = LeNet().to(device)\n",
    "# 损失函数使用交叉熵\n",
    "criterion = nn.CrossEntropyLoss()\n",
    "# 优化函数使用 Adam\n",
    "optimizer = optim.Adam(\n",
    "    net.parameters(),\n",
    "    lr=LR,\n",
    ")"
   ]
  },
  {
   "cell_type": "markdown",
   "metadata": {},
   "source": [
    "# 可视化训练集(jupyter notebook环境下不可执行)"
   ]
  },
  {
   "cell_type": "code",
   "execution_count": null,
   "metadata": {
    "pycharm": {
     "name": "#%%\n"
    }
   },
   "outputs": [],
   "source": [
    "images, labels = next(iter(train_loader))\n",
    "img = torchvision.utils.make_grid(images)\n",
    "\n",
    "img = img.numpy().transpose(1, 2, 0)\n",
    "std = [0.5, 0.5, 0.5]\n",
    "mean = [0.5, 0.5, 0.5]\n",
    "img = img * std + mean\n",
    "print(labels)\n",
    "cv2.imshow('win', img)\n",
    "key_pressed = cv2.waitKey(0)"
   ]
  },
  {
   "cell_type": "markdown",
   "metadata": {},
   "source": [
    "# Training model"
   ]
  },
  {
   "cell_type": "code",
   "execution_count": 10,
   "metadata": {
    "pycharm": {
     "is_executing": false,
     "name": "#%%\n"
    }
   },
   "outputs": [
    {
     "name": "stdout",
     "text": [
      "开始测试\n",
      "损失函数:\n",
      "[1,100] loss:0.715\n",
      "[1,200] loss:0.197\n",
      "[1,300] loss:0.132\n",
      "[1,400] loss:0.099\n",
      "[1,500] loss:0.091\n",
      "[1,600] loss:0.098\n",
      "[1,700] loss:0.084\n",
      "[1,800] loss:0.071\n",
      "[1,900] loss:0.068\n"
     ],
     "output_type": "stream"
    }
   ],
   "source": [
    "print('开始测试')\n",
    "print('损失函数:')\n",
    "epoch = 1\n",
    "if __name__ == '__main__':\n",
    "    for epoch in range(epoch):\n",
    "        sum_loss = 0.0\n",
    "        for i, data in enumerate(train_loader):\n",
    "            inputs, labels = data\n",
    "            inputs, labels = Variable(inputs).cuda(), Variable(labels).cuda()\n",
    "            optimizer.zero_grad()\n",
    "            outputs = net(inputs)\n",
    "            loss = criterion(outputs, labels)\n",
    "            loss.backward()\n",
    "            optimizer.step()\n",
    "            \n",
    "            sum_loss += loss.item()\n",
    "            if i % 100 == 99:\n",
    "                print('[%d,%d] loss:%.03f' % (epoch + 1, i + 1, sum_loss / 100))\n",
    "                sum_loss = 0.0"
   ]
  },
  {
   "cell_type": "markdown",
   "metadata": {},
   "source": [
    "# Test"
   ]
  },
  {
   "cell_type": "code",
   "execution_count": 11,
   "metadata": {
    "pycharm": {
     "is_executing": false,
     "name": "#%%\n"
    }
   },
   "outputs": [
    {
     "name": "stdout",
     "text": [
      "correct1:  tensor(9830, device='cuda:0')\n",
      "Test acc: 0.983\n"
     ],
     "output_type": "stream"
    }
   ],
   "source": [
    "net.eval()\n",
    "correct = 0\n",
    "total = 0\n",
    "for data_test in test_loader:\n",
    "    images, labels = data_test\n",
    "    images, labels = Variable(images).cuda(), Variable(labels).cuda()\n",
    "    outputs_test = net(images)\n",
    "    _, predicted = torch.max(outputs_test, 1)\n",
    "    total += labels.size(0)\n",
    "    correct += (predicted == labels).sum()\n",
    "print(\"correct1: \", correct)\n",
    "print(\"Test acc: {0}\".format(correct.item() / len(test_dataset)))"
   ]
  }
 ],
 "metadata": {
  "kernelspec": {
   "display_name": "Python 3",
   "language": "python",
   "name": "python3"
  },
  "language_info": {
   "codemirror_mode": {
    "name": "ipython",
    "version": 3
   },
   "file_extension": ".py",
   "mimetype": "text/x-python",
   "name": "python",
   "nbconvert_exporter": "python",
   "pygments_lexer": "ipython3",
   "version": "3.7.5"
  },
  "pycharm": {
   "stem_cell": {
    "cell_type": "raw",
    "source": [],
    "metadata": {
     "collapsed": false
    }
   }
  }
 },
 "nbformat": 4,
 "nbformat_minor": 1
}