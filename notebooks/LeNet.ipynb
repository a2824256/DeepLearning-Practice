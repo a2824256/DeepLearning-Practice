{
 "cells": [
  {
   "cell_type": "markdown",
   "metadata": {},
   "source": [
    "# 下载MNIST手写数字数据集\n",
    "### datasets.MNIST参数说明\n",
    "| 参数 | 说明   | \n",
    "| ----- | --------- | \n",
    "| root | 代表训练集/测试集路径 |\n",
    "| train  | True代表训练集, False代表测试集 |\n",
    "| transform | 将图片image转换成Tensor |\n",
    "| download | 是否下载，第一次使用需要 |"
   ]
  },
  {
   "cell_type": "code",
   "execution_count": 12,
   "metadata": {
    "collapsed": true,
    "pycharm": {
     "is_executing": false,
     "name": "#%%\n"
    }
   },
   "outputs": [],
   "source": [
    "import torch \n",
    "import torch.nn as nn\n",
    "import torch.optim as optim\n",
    "from torchvision import datasets, transforms # pytorch计算机视觉库，含多种数据集\n",
    "import torchvision\n",
    "from torch.autograd import Variable\n",
    "from torch.utils.data import DataLoader\n",
    "import cv2 # opencv\n",
    "# 训练集\n",
    "train_dataset = datasets.MNIST(root=\"E:\\\\pytorch_study\\\\lab\\\\data\\\\\",train=True,transform=transforms.ToTensor(),download=False)\n",
    "# 测试集\n",
    "test_dataset = datasets.MNIST(root=\"E:\\\\pytorch_study\\\\lab\\\\data\\\\\",train=False,transform=transforms.ToTensor(),download=False)"
   ]
  },
  {
   "cell_type": "markdown",
   "metadata": {},
   "source": [
    "# Network Architecture\n",
    "\n",
    "![jupyter](../material_image/LeNet-5.png)\n",
    "> 最大池化代表图中的Subsampling(上采样)\n",
    "##### 卷积层1+最大池化层\n",
    "- 输入为28x28x1的黑白图像，颜色通道为1，如果RGB图像则为3(R,G,B)，所以in_channels=1\n",
    "- 输出为28x28x6的feature map，通道为6，out_channels=6，feature map单层大小:28*28(32-5+1)\n",
    "- 卷积核尺寸为5x5，6通道对应6种卷积核，kernel_size=5\n",
    "- 步长为1，stride=1\n",
    "- 填充为2，padding=2，在外层补两圈0，图片计算尺寸为32x32\n",
    "- 结果通过ReLU线性修正单元\n",
    "- 再经过最大池化MaxPool2d，池化滑动窗口2x2，kernel_size=2，步长为2，stride=2\n",
    "- 经过最大池化后的结果为14x14x6的三阶张量，进入卷积层2\n",
    "\n",
    "##### 卷积层2+最大池化层\n",
    "- 输入为卷积层1最大池化后的输出14x14x6的Tensor（三阶张量）\n",
    "- 输出为10x10x16的Tensor，out_channels=16，卷积核尺寸为5x5，kernel_size=5\n",
    "- 默认步长为1，不进行填充\n",
    "- 结果通过ReLU\n",
    "- 再经过最大池化MaxPool2d，池化滑动窗口2x2，kernel_size=2，步长为2，stride=2\n",
    "- 最大池化后结果尺寸为5x5x16，进入全连接层1\n",
    "\n",
    "##### 全连接层1\n",
    "- 输入为卷积层2最大池化后的输出5x5x16，卷积核种类120，卷积核尺寸5x5\n",
    "- 输出为120x1的一阶张量\n",
    "- 经过优化函数后再通过ReLU\n",
    "\n",
    "##### 全连接层2\n",
    "- 输入为全连接层1的输出120x1的一阶张量\n",
    "- 输出为84x1的一阶张量\n",
    "- 经过优化函数后再通过ReLU,然后输入全连接层3\n",
    "\n",
    "##### 全连接层3\n",
    "- 输入为全连接层2的输入84x1\n",
    "- 输出为10x1的一阶张量，10代表十个手写阿拉伯数字类型"
   ]
  },
  {
   "cell_type": "code",
   "execution_count": 13,
   "metadata": {
    "pycharm": {
     "is_executing": false,
     "name": "#%%\n"
    }
   },
   "outputs": [],
   "source": [
    "class LeNet(nn.Module):\n",
    "    def __init__(self):\n",
    "        super(LeNet, self).__init__()\n",
    "        # 卷积层1+最大池化\n",
    "        self.conv1 = nn.Sequential(nn.Conv2d(in_channels=1,out_channels=6, kernel_size=5, stride=1, padding=2), nn.ReLU(), nn.MaxPool2d(kernel_size=2, stride=2))\n",
    "        # 卷积层2+最大池化\n",
    "        self.conv2 = nn.Sequential(nn.Conv2d(in_channels=6, out_channels=16, kernel_size=5), nn.ReLU(), nn.MaxPool2d(kernel_size=2, stride=2))\n",
    "        # 全连接层1\n",
    "        self.fc1 = nn.Sequential(nn.Linear(16 * 5 * 5, 120), nn.BatchNorm1d(120), nn.ReLU())\n",
    "        # 全连接层2\n",
    "        self.fc2 = nn.Sequential(nn.Linear(120, 84), nn.BatchNorm1d(84), nn.ReLU())\n",
    "        # 全连接层2\n",
    "        self.fc3 = nn.Linear(84, 10)\n",
    "        \n",
    "    def forward(self, x):\n",
    "        x = self.conv1(x)\n",
    "        x = self.conv2(x)\n",
    "        x = x.view(x.size()[0], -1)\n",
    "        x = self.fc1(x)\n",
    "        x = self.fc2(x)\n",
    "        x = self.fc3(x)\n",
    "        return x\n",
    "    "
   ]
  },
  {
   "cell_type": "markdown",
   "metadata": {},
   "source": [
    "# 训练前准备"
   ]
  },
  {
   "cell_type": "code",
   "execution_count": 14,
   "metadata": {
    "pycharm": {
     "is_executing": false,
     "name": "#%%\n"
    }
   },
   "outputs": [
    {
     "name": "stdout",
     "text": [
      "whether to support cuda\n",
      "True\n"
     ],
     "output_type": "stream"
    }
   ],
   "source": [
    "print(\"whether to support cuda\")\n",
    "print(torch.cuda.is_available()) # 输出是否支持cuda\n",
    "device = torch.device('cuda' if torch.cuda.is_available() else 'cpu') # 自动识别使用cuda还是cpu\n",
    "batch_size = 64\n",
    "LR = 0.001\n",
    "# 装载训练集\n",
    "train_loader = torch.utils.data.DataLoader(dataset=train_dataset,\n",
    "                                           batch_size=batch_size,\n",
    "                                           shuffle=True)\n",
    "\n",
    "# 装载测试集\n",
    "test_loader = torch.utils.data.DataLoader(dataset=test_dataset,\n",
    "                                          batch_size=batch_size,\n",
    "                                          shuffle=True)\n",
    "\n",
    "net = LeNet().to(device)\n",
    "# 损失函数使用交叉熵\n",
    "criterion = nn.CrossEntropyLoss()\n",
    "# 优化函数使用 Adam\n",
    "optimizer = optim.Adam(\n",
    "    net.parameters(),\n",
    "    lr=LR,\n",
    ")"
   ]
  },
  {
   "cell_type": "markdown",
   "metadata": {},
   "source": [
    "# 可视化训练集(jupyter notebook环境下不可执行)"
   ]
  },
  {
   "cell_type": "code",
   "execution_count": null,
   "metadata": {
    "pycharm": {
     "name": "#%%\n"
    }
   },
   "outputs": [],
   "source": [
    "images, labels = next(iter(train_loader))\n",
    "img = torchvision.utils.make_grid(images)\n",
    "\n",
    "img = img.numpy().transpose(1, 2, 0)\n",
    "std = [0.5, 0.5, 0.5]\n",
    "mean = [0.5, 0.5, 0.5]\n",
    "img = img * std + mean\n",
    "print(labels)\n",
    "cv2.imshow('win', img)\n",
    "key_pressed = cv2.waitKey(0)"
   ]
  },
  {
   "cell_type": "markdown",
   "metadata": {},
   "source": [
    "# Training model"
   ]
  },
  {
   "cell_type": "code",
   "execution_count": 15,
   "metadata": {
    "pycharm": {
     "is_executing": false,
     "name": "#%%\n"
    }
   },
   "outputs": [
    {
     "name": "stdout",
     "text": [
      "开始测试\n",
      "损失函数:\n",
      "[1,100] loss:0.681\n",
      "[1,200] loss:0.179\n",
      "[1,300] loss:0.124\n",
      "[1,400] loss:0.102\n",
      "[1,500] loss:0.094\n",
      "[1,600] loss:0.074\n",
      "[1,700] loss:0.075\n",
      "[1,800] loss:0.067\n",
      "[1,900] loss:0.055\n"
     ],
     "output_type": "stream"
    }
   ],
   "source": [
    "print('开始测试')\n",
    "print('损失函数:')\n",
    "epoch = 1\n",
    "if __name__ == '__main__':\n",
    "    for epoch in range(epoch):\n",
    "        sum_loss = 0.0\n",
    "        for i, data in enumerate(train_loader):\n",
    "            inputs, labels = data\n",
    "            inputs, labels = Variable(inputs).cuda(), Variable(labels).cuda()\n",
    "            optimizer.zero_grad()\n",
    "            outputs = net(inputs)\n",
    "            loss = criterion(outputs, labels)\n",
    "            loss.backward() #反向传播\n",
    "            optimizer.step()\n",
    "            \n",
    "            sum_loss += loss.item()\n",
    "            if i % 100 == 99:\n",
    "                print('[%d,%d] loss:%.03f' % (epoch + 1, i + 1, sum_loss / 100))\n",
    "                sum_loss = 0.0"
   ]
  },
  {
   "cell_type": "markdown",
   "metadata": {},
   "source": [
    "# Test"
   ]
  },
  {
   "cell_type": "code",
   "execution_count": 16,
   "metadata": {
    "pycharm": {
     "is_executing": false,
     "name": "#%%\n"
    }
   },
   "outputs": [
    {
     "name": "stdout",
     "text": [
      "correct:  tensor(9828, device='cuda:0')\n",
      "Test accuracy: 0.9828\n"
     ],
     "output_type": "stream"
    }
   ],
   "source": [
    "net.eval()\n",
    "correct = 0\n",
    "total = 0\n",
    "for data_test in test_loader:\n",
    "    images, labels = data_test\n",
    "    images, labels = Variable(images).cuda(), Variable(labels).cuda()\n",
    "    outputs_test = net(images)\n",
    "    _, predicted = torch.max(outputs_test, 1) #取出10种手写数字概率最大的一个\n",
    "    total += labels.size(0)\n",
    "    correct += (predicted == labels).sum()\n",
    "print(\"correct: \", correct)\n",
    "print(\"Test accuracy: {0}\".format(correct.item() / len(test_dataset)))"
   ]
  }
 ],
 "metadata": {
  "kernelspec": {
   "display_name": "Python 3",
   "language": "python",
   "name": "python3"
  },
  "language_info": {
   "codemirror_mode": {
    "name": "ipython",
    "version": 3
   },
   "file_extension": ".py",
   "mimetype": "text/x-python",
   "name": "python",
   "nbconvert_exporter": "python",
   "pygments_lexer": "ipython3",
   "version": "3.7.5"
  },
  "pycharm": {
   "stem_cell": {
    "cell_type": "raw",
    "source": [],
    "metadata": {
     "collapsed": false
    }
   }
  }
 },
 "nbformat": 4,
 "nbformat_minor": 1
}