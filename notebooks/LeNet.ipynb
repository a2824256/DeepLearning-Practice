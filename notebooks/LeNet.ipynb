{
 "cells": [
  {
   "cell_type": "markdown",
   "source": [
    "# 下载数据集\n",
    "### datasets.MNIST参数说明\n",
    "| 参数 | 说明   | \n",
    "| ----- | --------- | \n",
    "| root | 代表训练集/测试集路径 |\n",
    "| train  | True代表训练集, False代表测试集 |\n",
    "| transform | 将图片image转换成Tensor |\n",
    "| download | 是否下载，第一次使用需要 |"
   ],
   "metadata": {
    "collapsed": false
   }
  },
  {
   "cell_type": "code",
   "execution_count": 7,
   "metadata": {
    "collapsed": true,
    "pycharm": {
     "is_executing": false,
     "name": "#%%\n"
    }
   },
   "outputs": [
    {
     "name": "stdout",
     "text": [
      "Downloading http://yann.lecun.com/exdb/mnist/train-images-idx3-ubyte.gz to E:\\pytorch_study\\lab\\data\\MNIST\\raw\\train-images-idx3-ubyte.gz\n",
      "Extracting E:\\pytorch_study\\lab\\data\\MNIST\\raw\\train-images-idx3-ubyte.gz to E:\\pytorch_study\\lab\\data\\MNIST\\raw\n",
      "Downloading http://yann.lecun.com/exdb/mnist/train-labels-idx1-ubyte.gz to E:\\pytorch_study\\lab\\data\\MNIST\\raw\\train-labels-idx1-ubyte.gz\n",
      "Extracting E:\\pytorch_study\\lab\\data\\MNIST\\raw\\train-labels-idx1-ubyte.gz to E:\\pytorch_study\\lab\\data\\MNIST\\raw\n",
      "Downloading http://yann.lecun.com/exdb/mnist/t10k-images-idx3-ubyte.gz to E:\\pytorch_study\\lab\\data\\MNIST\\raw\\t10k-images-idx3-ubyte.gz\n",
      "Extracting E:\\pytorch_study\\lab\\data\\MNIST\\raw\\t10k-images-idx3-ubyte.gz to E:\\pytorch_study\\lab\\data\\MNIST\\raw\n",
      "Downloading http://yann.lecun.com/exdb/mnist/t10k-labels-idx1-ubyte.gz to E:\\pytorch_study\\lab\\data\\MNIST\\raw\\t10k-labels-idx1-ubyte.gz\n",
      "Extracting E:\\pytorch_study\\lab\\data\\MNIST\\raw\\t10k-labels-idx1-ubyte.gz to E:\\pytorch_study\\lab\\data\\MNIST\\raw\n",
      "Processing...\n",
      "Done!\n"
     ],
     "output_type": "stream"
    },
    {
     "name": "stderr",
     "text": [
      "180.4%"
     ],
     "output_type": "stream"
    }
   ],
   "source": [
    "from torchvision import datasets, transforms\n",
    "train_dataset = datasets.MNIST(root=\"E:\\\\pytorch_study\\\\lab\\\\data\\\\\",train=True,transform=transforms.ToTensor(),download=True)\n",
    "test_dataset = datasets.MNIST(root=\"E:\\\\pytorch_study\\\\lab\\\\data\\\\\",train=False,transform=transforms.ToTensor(),download=True)"
   ]
  },
  {
   "cell_type": "code",
   "execution_count": null,
   "outputs": [
    {
     "name": "stdout",
     "text": [
      "whether to support cuda\n",
      "True\n",
      "tensor([5, 2, 8, 0, 0, 7, 1, 1, 7, 2, 0, 7, 0, 7, 8, 0, 9, 5, 2, 3, 1, 1, 3, 3,\n",
      "        6, 7, 9, 1, 5, 1, 9, 3, 9, 1, 3, 4, 3, 6, 7, 2, 9, 2, 2, 7, 4, 7, 9, 2,\n",
      "        7, 2, 2, 1, 4, 0, 9, 6, 4, 5, 9, 0, 6, 9, 3, 1])\n"
     ],
     "output_type": "stream"
    }
   ],
   "source": [
    "import torch \n",
    "import torch.nn as nn\n",
    "import torch.nn.functional as F\n",
    "import torch.optim as optim\n",
    "from torchvision import datasets, transforms\n",
    "import torchvision\n",
    "from torch.autograd import Variable\n",
    "from torch.utils.data import DataLoader\n",
    "import cv2\n",
    "\n",
    "# Network Architecture\n",
    "class LeNet(nn.Module):\n",
    "    def __init__(self):\n",
    "        super(LeNet, self).__init__()\n",
    "        self.conv1 = nn.Sequential(nn.Conv2d(1, 6, 3, 1, 2), nn.ReLU(), nn.MaxPool2d(2, 2))\n",
    "        self.conv2 = nn.Sequential(nn.Conv2d(6, 16, 5), nn.ReLU(), nn.MaxPool2d(2, 2))\n",
    "        self.fc1 = nn.Sequential(nn.Linear(16 * 5 * 5, 120), nn.BatchNorm1d(120), nn.ReLU())\n",
    "        self.fc2 = nn.Sequential(nn.Linear(120, 84), nn.BatchNorm1d(84), nn.ReLU(), nn.Linear(84, 10))\n",
    "        \n",
    "    def forward(self, x):\n",
    "        x = self.conv1(x)\n",
    "        x = self.conv2(x)\n",
    "        x = x.view(x.size()[0], -1)\n",
    "        x = self.fc1(x)\n",
    "        x = self.fc2(x)\n",
    "        return x\n",
    "\n",
    "print(\"whether to support cuda\")\n",
    "print(torch.cuda.is_available()) # 输出是否支持cuda\n",
    "device = torch.device('cuda' if torch.cuda.is_available() else 'cpu') # 自动识别使用cuda还是cpu\n",
    "batch_size = 64\n",
    "LR = 0.001\n",
    "\n",
    "train_loader = torch.utils.data.DataLoader(dataset=train_dataset,\n",
    "                                           batch_size=batch_size,\n",
    "                                           shuffle=True)\n",
    "\n",
    "# 装载测试集\n",
    "test_loader = torch.utils.data.DataLoader(dataset=test_dataset,\n",
    "                                          batch_size=batch_size,\n",
    "                                          shuffle=True)\n",
    "\n",
    "#建立一个数据迭代器\n",
    "train_loader = torch.utils.data.DataLoader(dataset=train_dataset,\n",
    "                                           batch_size=batch_size,\n",
    "                                           shuffle=True)\n",
    "\n",
    "test_loader = torch.utils.data.DataLoader(dataset=test_dataset,\n",
    "                                          batch_size=batch_size,\n",
    "                                          shuffle=True)\n"
   ],
   "metadata": {
    "collapsed": false,
    "pycharm": {
     "name": "#%%\n",
     "is_executing": true
    }
   }
  },
  {
   "cell_type": "markdown",
   "source": [
    "# 可视化训练集\n"
   ],
   "metadata": {
    "collapsed": false
   }
  },
  {
   "cell_type": "code",
   "execution_count": null,
   "outputs": [],
   "source": [
    "images, labels = next(iter(train_loader))\n",
    "img = torchvision.utils.make_grid(images)\n",
    "\n",
    "img = img.numpy().transpose(1, 2, 0)\n",
    "std = [0.5, 0.5, 0.5]\n",
    "mean = [0.5, 0.5, 0.5]\n",
    "img = img * std + mean\n",
    "print(labels)\n",
    "cv2.imshow('win', img)\n",
    "key_pressed = cv2.waitKey(0)"
   ],
   "metadata": {
    "collapsed": false,
    "pycharm": {
     "name": "#%%\n"
    }
   }
  }
 ],
 "metadata": {
  "kernelspec": {
   "display_name": "Python 3",
   "language": "python",
   "name": "python3"
  },
  "language_info": {
   "codemirror_mode": {
    "name": "ipython",
    "version": 2
   },
   "file_extension": ".py",
   "mimetype": "text/x-python",
   "name": "python",
   "nbconvert_exporter": "python",
   "pygments_lexer": "ipython2",
   "version": "2.7.6"
  },
  "pycharm": {
   "stem_cell": {
    "cell_type": "raw",
    "source": [],
    "metadata": {
     "collapsed": false
    }
   }
  }
 },
 "nbformat": 4,
 "nbformat_minor": 0
}